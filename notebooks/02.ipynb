{
 "cells": [
  {
   "cell_type": "code",
   "execution_count": 2,
   "metadata": {},
   "outputs": [
    {
     "name": "stdout",
     "output_type": "stream",
     "text": [
      "tensor([[ 0.0000e+00,  1.0000e+00,  0.0000e+00,  1.0000e+00,  0.0000e+00,\n",
      "          1.0000e+00,  0.0000e+00,  1.0000e+00,  0.0000e+00,  1.0000e+00,\n",
      "          0.0000e+00,  1.0000e+00,  0.0000e+00,  1.0000e+00,  0.0000e+00,\n",
      "          1.0000e+00],\n",
      "        [ 8.4147e-01,  5.4030e-01,  3.1098e-01,  9.5042e-01,  9.9833e-02,\n",
      "          9.9500e-01,  3.1618e-02,  9.9950e-01,  9.9998e-03,  9.9995e-01,\n",
      "          3.1623e-03,  9.9999e-01,  1.0000e-03,  1.0000e+00,  3.1623e-04,\n",
      "          1.0000e+00],\n",
      "        [ 9.0930e-01, -4.1615e-01,  5.9113e-01,  8.0658e-01,  1.9867e-01,\n",
      "          9.8007e-01,  6.3203e-02,  9.9800e-01,  1.9999e-02,  9.9980e-01,\n",
      "          6.3245e-03,  9.9998e-01,  2.0000e-03,  1.0000e+00,  6.3246e-04,\n",
      "          1.0000e+00],\n",
      "        [ 1.4112e-01, -9.8999e-01,  8.1265e-01,  5.8275e-01,  2.9552e-01,\n",
      "          9.5534e-01,  9.4726e-02,  9.9550e-01,  2.9995e-02,  9.9955e-01,\n",
      "          9.4867e-03,  9.9995e-01,  3.0000e-03,  1.0000e+00,  9.4868e-04,\n",
      "          1.0000e+00],\n",
      "        [-7.5680e-01, -6.5364e-01,  9.5358e-01,  3.0114e-01,  3.8942e-01,\n",
      "          9.2106e-01,  1.2615e-01,  9.9201e-01,  3.9989e-02,  9.9920e-01,\n",
      "          1.2649e-02,  9.9992e-01,  4.0000e-03,  9.9999e-01,  1.2649e-03,\n",
      "          1.0000e+00]])\n"
     ]
    }
   ],
   "source": [
    "# Positional Encoding \n",
    "import torch\n",
    "import math\n",
    "# import matplotlib.pyplot as plt\n",
    "\n",
    "def create_positional_encoding(max_seq_len, d_model):\n",
    "    pos_encoding = torch.zeros(max_seq_len, d_model)\n",
    "    position = torch.arange(0, max_seq_len, dtype=torch.float).unsqueeze(1)\n",
    "    div_term = torch.exp(torch.arange(0, d_model, 2).float() * (-math.log(10000.0) / d_model))\n",
    "    \n",
    "    pos_encoding[:, 0::2] = torch.sin(position * div_term)  # Apply sine to even indices\n",
    "    pos_encoding[:, 1::2] = torch.cos(position * div_term)  # Apply cosine to odd indices\n",
    "\n",
    "    return pos_encoding\n",
    "\n",
    "# Example: Generate positional encodings\n",
    "max_seq_len = 10   # Sequence length (10 tokens)\n",
    "d_model = 16       # Embedding size (16 dimensions)\n",
    "\n",
    "pos_encodings = create_positional_encoding(max_seq_len, d_model)\n",
    "\n",
    "# Print first 5 positional encodings\n",
    "print(pos_encodings[:5])  # Show first 5 rows\n",
    "\n",
    "# # Plot positional encoding for 4 dimensions\n",
    "# plt.figure(figsize=(10, 5))\n",
    "# for i in range(4):  # Visualizing only the first 4 dimensions\n",
    "#     plt.plot(pos_encodings[:, i].numpy(), label=f'Dimension {i}')\n",
    "    \n",
    "# plt.xlabel(\"Position\")\n",
    "# plt.ylabel(\"Encoding Value\")\n",
    "# plt.title(\"Positional Encoding Visualization (First 4 Dimensions)\")\n",
    "# plt.legend()\n",
    "# plt.show()\n"
   ]
  },
  {
   "cell_type": "code",
   "execution_count": null,
   "metadata": {},
   "outputs": [],
   "source": []
  }
 ],
 "metadata": {
  "kernelspec": {
   "display_name": "llm",
   "language": "python",
   "name": "python3"
  },
  "language_info": {
   "codemirror_mode": {
    "name": "ipython",
    "version": 3
   },
   "file_extension": ".py",
   "mimetype": "text/x-python",
   "name": "python",
   "nbconvert_exporter": "python",
   "pygments_lexer": "ipython3",
   "version": "3.9.21"
  }
 },
 "nbformat": 4,
 "nbformat_minor": 2
}
